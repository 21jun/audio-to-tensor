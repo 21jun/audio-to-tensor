{
 "metadata": {
  "language_info": {
   "codemirror_mode": {
    "name": "ipython",
    "version": 3
   },
   "file_extension": ".py",
   "mimetype": "text/x-python",
   "name": "python",
   "nbconvert_exporter": "python",
   "pygments_lexer": "ipython3",
   "version": "3.6.9-final"
  },
  "orig_nbformat": 2,
  "kernelspec": {
   "name": "python3",
   "display_name": "Python 3",
   "language": "python"
  }
 },
 "nbformat": 4,
 "nbformat_minor": 2,
 "cells": [
  {
   "cell_type": "code",
   "execution_count": 1,
   "metadata": {},
   "outputs": [],
   "source": [
    "%load_ext autoreload\n",
    "%autoreload 2"
   ]
  },
  {
   "cell_type": "code",
   "execution_count": 112,
   "metadata": {},
   "outputs": [
    {
     "output_type": "stream",
     "name": "stderr",
     "text": [
      "[autoreload of kospeech failed: Traceback (most recent call last):\n  File \"/usr/local/lib/python3.6/dist-packages/IPython/extensions/autoreload.py\", line 245, in check\n    superreload(m, reload, self.old_objects)\n  File \"/usr/local/lib/python3.6/dist-packages/IPython/extensions/autoreload.py\", line 410, in superreload\n    update_generic(old_obj, new_obj)\n  File \"/usr/local/lib/python3.6/dist-packages/IPython/extensions/autoreload.py\", line 347, in update_generic\n    update(a, b)\n  File \"/usr/local/lib/python3.6/dist-packages/IPython/extensions/autoreload.py\", line 302, in update_class\n    if update_generic(old_obj, new_obj): continue\n  File \"/usr/local/lib/python3.6/dist-packages/IPython/extensions/autoreload.py\", line 347, in update_generic\n    update(a, b)\n  File \"/usr/local/lib/python3.6/dist-packages/IPython/extensions/autoreload.py\", line 302, in update_class\n    if update_generic(old_obj, new_obj): continue\n  File \"/usr/local/lib/python3.6/dist-packages/IPython/extensions/autoreload.py\", line 347, in update_generic\n    update(a, b)\n  File \"/usr/local/lib/python3.6/dist-packages/IPython/extensions/autoreload.py\", line 302, in update_class\n    if update_generic(old_obj, new_obj): continue\n  File \"/usr/local/lib/python3.6/dist-packages/IPython/extensions/autoreload.py\", line 347, in update_generic\n    update(a, b)\n  File \"/usr/local/lib/python3.6/dist-packages/IPython/extensions/autoreload.py\", line 302, in update_class\n    if update_generic(old_obj, new_obj): continue\nRecursionError: maximum recursion depth exceeded\n]\n"
     ]
    }
   ],
   "source": [
    "from kospeech import KoSpeechDataSet, KoSpeechDataModule\n",
    "import pytorch_lightning as pl\n",
    "from easydict import EasyDict\n",
    "import json\n",
    "from torch.utils import data\n",
    "import torchaudio\n",
    "import matplotlib.pyplot as plt\n",
    "import torch.nn as nn"
   ]
  },
  {
   "cell_type": "code",
   "execution_count": 113,
   "metadata": {},
   "outputs": [
    {
     "output_type": "stream",
     "name": "stdout",
     "text": [
      "86800\n37200\n"
     ]
    }
   ],
   "source": [
    "dm = KoSpeechDataModule(batch_size=8)\n",
    "dm.setup()\n",
    "\n",
    "train = dm.train_dataloader()"
   ]
  },
  {
   "cell_type": "code",
   "execution_count": 114,
   "metadata": {},
   "outputs": [
    {
     "output_type": "execute_result",
     "data": {
      "text/plain": [
       "{'wave': tensor([[-0.0013, -0.0011, -0.0009,  ...,  0.0116,  0.0125,  0.0128]]),\n",
       " 'spectrogram': tensor([[[0.0000e+00, 0.0000e+00, 0.0000e+00,  ..., 0.0000e+00,\n",
       "           0.0000e+00, 0.0000e+00],\n",
       "          [1.9954e-04, 1.3186e-03, 1.2054e-03,  ..., 2.9457e-02,\n",
       "           9.2709e-02, 1.9046e-01],\n",
       "          [1.0744e-03, 7.0998e-03, 6.4903e-03,  ..., 1.5860e-01,\n",
       "           4.9917e-01, 1.0255e+00],\n",
       "          ...,\n",
       "          [8.4913e-07, 1.3107e-06, 9.1671e-07,  ..., 3.3991e-05,\n",
       "           9.9589e-05, 1.1114e-04],\n",
       "          [4.2517e-07, 8.4434e-07, 1.4600e-06,  ..., 1.7678e-05,\n",
       "           8.9027e-05, 2.9211e-05],\n",
       "          [3.1576e-07, 1.8455e-07, 4.0808e-07,  ..., 1.0224e-06,\n",
       "           7.2969e-06, 3.1884e-06]]]),\n",
       " 'text': 'b/ 그래서 엄마, 아빠가 l/\\n'}"
      ]
     },
     "metadata": {},
     "execution_count": 114
    }
   ],
   "source": [
    "train.dataset[12]"
   ]
  },
  {
   "cell_type": "code",
   "execution_count": 117,
   "metadata": {},
   "outputs": [
    {
     "output_type": "stream",
     "name": "stdout",
     "text": [
      "[tensor([[0.0004, 0.0004, 0.0004,  ..., 0.0009, 0.0010, 0.0011]]), tensor([[-6.1035e-05, -1.2207e-04, -2.4414e-04,  ...,  2.4414e-04,\n          2.4414e-04,  1.2207e-04]]), tensor([[-6.1035e-05, -6.1035e-05,  9.1553e-05,  ...,  1.2207e-04,\n          9.1553e-05,  9.1553e-05]]), tensor([[-0.0005, -0.0005, -0.0005,  ..., -0.0003, -0.0002, -0.0002]]), tensor([[-2.7466e-04, -8.5449e-04, -3.0518e-04,  ..., -3.0518e-05,\n         -6.1035e-05, -9.1553e-05]]), tensor([[-0.0003, -0.0006, -0.0004,  ...,  0.0002,  0.0002,  0.0002]]), tensor([[ 0.0004,  0.0003,  0.0003,  ..., -0.0002, -0.0002, -0.0003]]), tensor([[0.0005, 0.0005, 0.0006,  ..., 0.0003, 0.0003, 0.0004]])] [tensor([[[0.0000e+00, 0.0000e+00, 0.0000e+00,  ..., 0.0000e+00,\n          0.0000e+00, 0.0000e+00],\n         [1.5354e-04, 1.1448e-04, 2.1343e-04,  ..., 3.9932e-04,\n          6.2047e-04, 6.3365e-04],\n         [0.0000e+00, 0.0000e+00, 0.0000e+00,  ..., 0.0000e+00,\n          0.0000e+00, 0.0000e+00],\n         ...,\n         [3.9036e-07, 3.2645e-07, 3.8885e-07,  ..., 1.9352e-07,\n          4.4765e-07, 5.1764e-07],\n         [2.4762e-07, 3.6059e-07, 5.4212e-07,  ..., 1.8549e-07,\n          2.1089e-07, 3.5319e-07],\n         [2.5268e-08, 1.8340e-07, 3.1028e-07,  ..., 4.2659e-07,\n          6.7453e-08, 1.0488e-07]]]), tensor([[[0.0000e+00, 0.0000e+00, 0.0000e+00,  ..., 0.0000e+00,\n          0.0000e+00, 0.0000e+00],\n         [4.6272e-05, 2.2921e-04, 6.7331e-05,  ..., 3.3394e-05,\n          1.1279e-04, 3.8971e-05],\n         [2.4914e-04, 1.2341e-03, 3.6253e-04,  ..., 1.7980e-04,\n          6.0729e-04, 2.0983e-04],\n         ...,\n         [8.0509e-07, 2.0992e-07, 3.7431e-07,  ..., 1.4377e-06,\n          1.0426e-06, 2.0944e-06],\n         [1.0430e-07, 2.5149e-07, 2.8946e-07,  ..., 5.3110e-07,\n          4.4249e-07, 9.0220e-07],\n         [2.6052e-08, 2.9421e-07, 1.3429e-07,  ..., 2.6047e-07,\n          3.8731e-07, 5.6100e-07]]]), tensor([[[0.0000e+00, 0.0000e+00, 0.0000e+00,  ..., 0.0000e+00,\n          0.0000e+00, 0.0000e+00],\n         [1.7637e-05, 3.5791e-07, 2.0597e-05,  ..., 6.6292e-05,\n          3.9966e-06, 6.7560e-06],\n         [9.4965e-05, 1.9271e-06, 1.1090e-04,  ..., 3.5694e-04,\n          2.1519e-05, 3.6376e-05],\n         ...,\n         [1.8280e-07, 8.3771e-07, 1.6457e-07,  ..., 2.4214e-07,\n          1.7135e-07, 6.6253e-07],\n         [6.9804e-07, 4.8320e-07, 1.8720e-07,  ..., 2.9556e-07,\n          1.7767e-07, 2.5789e-07],\n         [1.2495e-06, 5.2337e-07, 3.3450e-07,  ..., 1.8534e-07,\n          1.9842e-07, 1.6459e-07]]]), tensor([[[0.0000e+00, 0.0000e+00, 0.0000e+00,  ..., 0.0000e+00,\n          0.0000e+00, 0.0000e+00],\n         [4.4203e-04, 4.9890e-04, 1.3010e-03,  ..., 6.4194e-04,\n          2.7669e-04, 2.7247e-04],\n         [2.3800e-03, 2.6862e-03, 7.0047e-03,  ..., 3.4564e-03,\n          1.4898e-03, 1.4671e-03],\n         ...,\n         [9.0730e-08, 7.3510e-07, 1.0111e-07,  ..., 4.8222e-07,\n          2.3042e-07, 1.3450e-07],\n         [1.3381e-07, 2.0911e-07, 1.4605e-07,  ..., 2.4921e-07,\n          1.1948e-07, 3.1583e-07],\n         [1.4220e-07, 1.7832e-07, 3.2808e-07,  ..., 1.0335e-07,\n          7.1526e-08, 8.1221e-07]]]), tensor([[[0.0000e+00, 0.0000e+00, 0.0000e+00,  ..., 0.0000e+00,\n          0.0000e+00, 0.0000e+00],\n         [1.1171e-04, 2.6936e-05, 1.6258e-05,  ..., 1.2823e-03,\n          2.9129e-04, 1.2145e-04],\n         [6.0147e-04, 1.4503e-04, 8.7538e-05,  ..., 6.9040e-03,\n          1.5684e-03, 6.5391e-04],\n         ...,\n         [1.1999e-05, 2.9540e-05, 4.9352e-06,  ..., 6.5859e-07,\n          1.9429e-07, 3.7746e-07],\n         [1.0614e-05, 1.4093e-05, 2.4091e-06,  ..., 3.0987e-07,\n          3.7056e-07, 1.3629e-07],\n         [1.1378e-05, 2.8565e-06, 1.4680e-06,  ..., 3.8895e-07,\n          2.5458e-07, 5.0527e-08]]]), tensor([[[0.0000e+00, 0.0000e+00, 0.0000e+00,  ..., 0.0000e+00,\n          0.0000e+00, 0.0000e+00],\n         [3.2624e-04, 2.5797e-04, 6.8640e-04,  ..., 2.0630e-05,\n          1.5488e-04, 7.4121e-06],\n         [1.7566e-03, 1.3890e-03, 3.6958e-03,  ..., 1.1108e-04,\n          8.3390e-04, 3.9909e-05],\n         ...,\n         [1.2160e-05, 6.6326e-06, 1.0636e-05,  ..., 2.1882e-07,\n          8.9825e-07, 6.0887e-07],\n         [1.3839e-05, 5.5761e-06, 1.1745e-05,  ..., 3.6020e-07,\n          3.4120e-07, 6.2736e-07],\n         [6.5389e-06, 1.7729e-06, 1.4980e-06,  ..., 6.3123e-07,\n          2.2666e-07, 1.5051e-07]]]), tensor([[[0.0000e+00, 0.0000e+00, 0.0000e+00,  ..., 0.0000e+00,\n          0.0000e+00, 0.0000e+00],\n         [8.1793e-06, 3.4789e-04, 1.1816e-04,  ..., 1.3181e-03,\n          8.5934e-04, 2.6704e-03],\n         [4.4039e-05, 1.8731e-03, 6.3620e-04,  ..., 7.0968e-03,\n          4.6269e-03, 1.4378e-02],\n         ...,\n         [4.0575e-07, 4.5293e-07, 6.7879e-07,  ..., 2.8801e-06,\n          1.7149e-06, 1.3522e-07],\n         [4.4555e-07, 3.0003e-07, 7.2470e-08,  ..., 2.1177e-06,\n          1.4467e-06, 7.1198e-08],\n         [4.9350e-07, 1.6819e-07, 1.2435e-07,  ..., 1.1202e-06,\n          8.5513e-07, 2.1363e-07]]]), tensor([[[0.0000e+00, 0.0000e+00, 0.0000e+00,  ..., 0.0000e+00,\n          0.0000e+00, 0.0000e+00],\n         [6.2278e-04, 4.5816e-05, 5.9343e-05,  ..., 6.0952e-04,\n          1.4493e-04, 3.5227e-04],\n         [3.3532e-03, 2.4669e-04, 3.1952e-04,  ..., 3.2818e-03,\n          7.8033e-04, 1.8967e-03],\n         ...,\n         [7.9166e-03, 3.0912e-04, 1.7985e-06,  ..., 2.4952e-07,\n          3.8173e-07, 5.0657e-07],\n         [6.8724e-03, 3.0974e-04, 1.1641e-06,  ..., 2.1361e-07,\n          2.0339e-07, 3.9359e-07],\n         [4.8726e-03, 2.3560e-04, 1.1016e-06,  ..., 1.8082e-07,\n          8.1182e-08, 2.8962e-07]]])] ['친한 거는 서울 애들이 더 친할진 몰라도 좀 인간적으로 봤을 때 와/ 얘는+ 얘만큼 좀 성실한 애는 없고 얘는 좀 될 애다.라고 생각한 애들 솔직히 말해 나 우리 애들 중엔 없거든?\\n', '이름이 그렇게 둘이 다른 이름은 아니라\\n', '거* 좀 힘들고 막 b/ 일본에서도 (1층)/(일 층) 사니까, 층간 소음 신경 쓸, 그게 없는 거야. b/ 난 (1층)/(일 층) 살 거야. 다음에 사+ 어디 가도 (1층)/(일 층) 살려고\\n', '그냥. 뭣도 모르고 그냥 끌 어딘가 누구랑 간지도 기억 안 나. 그냥 스키장에 한 번 갔어. b/\\n', 'o/ 그때 막/ 물어봤거든. 막/ 막/ 커플링 뭐 하면 좋을지, 막/ 부산에 l/ 어디 가면 좋을지, 어디서 밥 먹을지 이런 거 막/ 물어보더라고, 그거를. 그서* 나는 난 서울에 있는데 니 부산 자주 내려가길래 아니 참 대단하다. 어떻게 부산이랑 서울이랑 장거리 하고 있냐, 했는데 내가 장거리 하고 있네.\\n', '게스트 하우스 해서 갔을 때가 한\\n', '이번에 좋기는 좋았던 게 기회가 b/ 앞에랑 가는 거랑 뒤에 가는 거랑 다 오사카로 지역이 똑같앴거든 그래서 앞에 갔다가 뒤로 넘어갈 수 있게끔? l/ u/\\n', 'o/ 긍까 그/ 나 군인이어서 그렇다 치고. 그때야 b/ 내 기억으론 그때가 아/ 처음 만났을 때가 부터 그때가 이제 제일 쪘었어. b/ 그때 빵빵해가지구 볼이.\\n']\n"
     ]
    }
   ],
   "source": [
    "for a,b,c in train:\n",
    "    print(a,b,c)\n",
    "    break"
   ]
  },
  {
   "cell_type": "code",
   "execution_count": null,
   "metadata": {},
   "outputs": [],
   "source": []
  }
 ]
}