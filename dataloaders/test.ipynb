{
 "metadata": {
  "language_info": {
   "codemirror_mode": {
    "name": "ipython",
    "version": 3
   },
   "file_extension": ".py",
   "mimetype": "text/x-python",
   "name": "python",
   "nbconvert_exporter": "python",
   "pygments_lexer": "ipython3",
   "version": "3.6.9-final"
  },
  "orig_nbformat": 2,
  "kernelspec": {
   "name": "python3",
   "display_name": "Python 3",
   "language": "python"
  }
 },
 "nbformat": 4,
 "nbformat_minor": 2,
 "cells": [
  {
   "cell_type": "code",
   "execution_count": 8,
   "metadata": {},
   "outputs": [],
   "source": [
    "%load_ext autoreload\n",
    "%autoreload 2"
   ]
  },
  {
   "cell_type": "code",
   "execution_count": 21,
   "metadata": {},
   "outputs": [],
   "source": [
    "from librispeech import LibriSpeechDataModule\n",
    "import pytorch_lightning as pl\n",
    "from easydict import EasyDict"
   ]
  },
  {
   "cell_type": "code",
   "execution_count": 23,
   "metadata": {},
   "outputs": [
    {
     "output_type": "stream",
     "name": "stdout",
     "text": [
      "<torchaudio.datasets.librispeech.LIBRISPEECH object at 0x7f1053f9a668>\n0 0\n<torch.utils.data.dataloader.DataLoader object at 0x7f1053f9a470>\n"
     ]
    }
   ],
   "source": [
    "\n",
    "pl.seed_everything(777)\n",
    "\n",
    "args = EasyDict({\n",
    "    \"train_url\":\"train-clean-100\",\n",
    "    \"test_url\": \"test-clean\",\n",
    "    \"batch_size\": 8,\n",
    "    \"download_path\":\"./data/librispeech\"\n",
    "})\n",
    "\n",
    "dm = LibriSpeechDataModule(args.batch_size, args.download_path, args.train_url,\n",
    "                            args.test_url)\n",
    "dm.prepare_data()\n",
    "fd = dm.setup()\n",
    "\n",
    "train = dm.train_dataloader()\n",
    "\n",
    "print(train)\n"
   ]
  },
  {
   "cell_type": "code",
   "execution_count": 26,
   "metadata": {},
   "outputs": [
    {
     "output_type": "execute_result",
     "data": {
      "text/plain": [
       "{'_path': './data/librispeech/LibriSpeech/train-clean-100', '_walker': []}"
      ]
     },
     "metadata": {},
     "execution_count": 26
    }
   ],
   "source": [
    "fd.__dict__"
   ]
  },
  {
   "cell_type": "code",
   "execution_count": null,
   "metadata": {},
   "outputs": [],
   "source": [
    "for a in train:\n",
    "    print(a)\n",
    "    break"
   ]
  },
  {
   "cell_type": "code",
   "execution_count": null,
   "metadata": {},
   "outputs": [],
   "source": []
  },
  {
   "cell_type": "code",
   "execution_count": 20,
   "metadata": {},
   "outputs": [],
   "source": [
    "full_dataset = torchaudio.datasets.LIBRISPEECH(\n",
    "            args.download_path, url=args.train_url)"
   ]
  },
  {
   "cell_type": "code",
   "execution_count": null,
   "metadata": {},
   "outputs": [],
   "source": []
  }
 ]
}